{
 "cells": [
  {
   "cell_type": "code",
   "execution_count": null,
   "metadata": {},
   "outputs": [],
   "source": []
  },
  {
   "cell_type": "code",
   "execution_count": 1,
   "metadata": {},
   "outputs": [
    {
     "name": "stdout",
     "output_type": "stream",
     "text": [
      "Failed to install bliss from installed module. Attempting build directory development module\n"
     ]
    },
    {
     "name": "stderr",
     "output_type": "stream",
     "text": [
      "<frozen importlib._bootstrap>:488: RuntimeWarning: nanobind: type 'ndarray' was already registered!\n",
      "\n",
      "<frozen importlib._bootstrap>:488: RuntimeWarning: nanobind: type 'dev' was already registered!\n",
      "\n"
     ]
    }
   ],
   "source": [
    "try:\n",
    "    import bliss\n",
    "except:\n",
    "    print(\"Failed to install bliss from installed module. Attempting build directory development module\")\n",
    "    import sys\n",
    "    sys.path.append(\"../build/bliss/python\")\n",
    "    import bliss\n"
   ]
  },
  {
   "cell_type": "markdown",
   "metadata": {},
   "source": [
    "This reads the voyagers"
   ]
  },
  {
   "cell_type": "code",
   "execution_count": null,
   "metadata": {},
   "outputs": [],
   "source": [
    "bl = bliss.bland\n"
   ]
  },
  {
   "cell_type": "code",
   "execution_count": null,
   "metadata": {},
   "outputs": [],
   "source": []
  },
  {
   "cell_type": "code",
   "execution_count": null,
   "metadata": {},
   "outputs": [],
   "source": [
    "data_loc = \"/datag/public/voyager_2020/single_coarse_channel/\"\n",
    "\n",
    "cadence = bliss.cadence([[f\"{data_loc}/single_coarse_guppi_59046_80036_DIAG_VOYAGER-1_0011.rawspec.0000.h5\",\n",
    "                    f\"{data_loc}/single_coarse_guppi_59046_80672_DIAG_VOYAGER-1_0013.rawspec.0000.h5\",\n",
    "                    f\"{data_loc}/single_coarse_guppi_59046_81310_DIAG_VOYAGER-1_0015.rawspec.0000.h5\"\n",
    "                    ],\n",
    "                    [f\"{data_loc}/single_coarse_guppi_59046_80354_DIAG_VOYAGER-1_0012.rawspec.0000.h5\"],\n",
    "                    [f\"{data_loc}/single_coarse_guppi_59046_80989_DIAG_VOYAGER-1_0014.rawspec.0000.h5\"],\n",
    "                    [f\"{data_loc}/single_coarse_guppi_59046_81628_DIAG_VOYAGER-1_0016.rawspec.0000.h5\"]])\n"
   ]
  },
  {
   "cell_type": "code",
   "execution_count": null,
   "metadata": {},
   "outputs": [],
   "source": [
    "cadence.set_device(\"cuda:3\")"
   ]
  },
  {
   "cell_type": "code",
   "execution_count": null,
   "metadata": {},
   "outputs": [],
   "source": [
    "\n",
    "\n",
    "cadence = bliss.flaggers.flag_filter_rolloff(cadence, .2)\n",
    "\n",
    "cadence = bliss.flaggers.flag_spectral_kurtosis(cadence, .05, 25)\n",
    "\n"
   ]
  },
  {
   "cell_type": "code",
   "execution_count": null,
   "metadata": {},
   "outputs": [],
   "source": [
    "\n",
    "noise_est_options = bliss.estimators.noise_power_estimate_options()\n",
    "noise_est_options.masked_estimate = True\n",
    "noise_est_options.estimator_method = bliss.estimators.noise_power_estimator.stddev\n",
    "cadence = bliss.estimators.estimate_noise_power(cadence, noise_est_options)\n"
   ]
  },
  {
   "cell_type": "code",
   "execution_count": null,
   "metadata": {},
   "outputs": [],
   "source": [
    "opts = bliss.integrate_drifts_options()\n",
    "opts.desmear = True\n",
    "opts.low_rate = -500\n",
    "opts.high_rate = 500\n",
    "opts.rate_step_size = 1\n",
    "\n",
    "cadence = bliss.drift_search.integrate_drifts(cadence, opts)\n"
   ]
  },
  {
   "cell_type": "code",
   "execution_count": null,
   "metadata": {},
   "outputs": [],
   "source": [
    "hit_search_opts = bliss.drift_search.hit_search_options()\n",
    "hit_search_opts.method = bliss.drift_search.hit_search_methods.connected_components\n",
    "hit_search_opts.snr_threshold = 10.0\n",
    "\n",
    "cadence_with_hits = bliss.drift_search.hit_search(cadence, hit_search_opts)\n"
   ]
  },
  {
   "cell_type": "code",
   "execution_count": null,
   "metadata": {},
   "outputs": [],
   "source": [
    "\n",
    "cadence_with_hits.set_device(\"cpu\")\n"
   ]
  },
  {
   "cell_type": "code",
   "execution_count": null,
   "metadata": {},
   "outputs": [],
   "source": [
    "\n",
    "hits = bliss.plot_utils.get_hits_list(cadence_with_hits)\n"
   ]
  },
  {
   "cell_type": "code",
   "execution_count": null,
   "metadata": {},
   "outputs": [],
   "source": [
    "\n",
    "bliss.plot_utils.scatter_matrix_hits(hits)\n"
   ]
  },
  {
   "cell_type": "code",
   "execution_count": null,
   "metadata": {},
   "outputs": [],
   "source": [
    "\n",
    "cc = cadence_with_hits.observations[0].scans[0].read_coarse_channel(0)\n"
   ]
  },
  {
   "cell_type": "code",
   "execution_count": null,
   "metadata": {},
   "outputs": [],
   "source": [
    "bliss.plot_utils.plot_hits(cc, focus_hits=cc.hits)\n"
   ]
  },
  {
   "cell_type": "code",
   "execution_count": null,
   "metadata": {},
   "outputs": [],
   "source": []
  }
 ],
 "metadata": {
  "kernelspec": {
   "display_name": ".venv",
   "language": "python",
   "name": "python3"
  },
  "language_info": {
   "codemirror_mode": {
    "name": "ipython",
    "version": 3
   },
   "file_extension": ".py",
   "mimetype": "text/x-python",
   "name": "python",
   "nbconvert_exporter": "python",
   "pygments_lexer": "ipython3",
   "version": "3.12.3"
  }
 },
 "nbformat": 4,
 "nbformat_minor": 2
}
