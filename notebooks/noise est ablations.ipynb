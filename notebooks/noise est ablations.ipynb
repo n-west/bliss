{
 "cells": [
  {
   "cell_type": "code",
   "execution_count": 1,
   "metadata": {},
   "outputs": [
    {
     "name": "stdout",
     "output_type": "stream",
     "text": [
      "Failed to install bliss from installed module. Attempting build directory development module\n",
      "Found a usable device\n"
     ]
    },
    {
     "name": "stderr",
     "output_type": "stream",
     "text": [
      "<frozen importlib._bootstrap>:488: RuntimeWarning: nanobind: type 'ndarray' was already registered!\n",
      "\n",
      "<frozen importlib._bootstrap>:488: RuntimeWarning: nanobind: type 'dev' was already registered!\n",
      "\n",
      "<frozen importlib._bootstrap>:488: RuntimeWarning: nanobind: type 'datatype' was already registered!\n",
      "\n"
     ]
    }
   ],
   "source": [
    "try:\n",
    "    import blissdedrift\n",
    "except:\n",
    "    print(\"Failed to install bliss from installed module. Attempting build directory development module\")\n",
    "    import sys\n",
    "    sys.path.append(\"../build/bliss/python\")\n",
    "    import blissdedrift\n"
   ]
  },
  {
   "cell_type": "code",
   "execution_count": 2,
   "metadata": {},
   "outputs": [],
   "source": [
    "import h5py\n",
    "import numpy as np\n",
    "%matplotlib widget\n",
    "import matplotlib.pyplot as plt\n",
    "\n",
    "import scipy.stats as spstat\n",
    "from pprint import pp\n"
   ]
  },
  {
   "cell_type": "code",
   "execution_count": 3,
   "metadata": {},
   "outputs": [],
   "source": [
    "filpath = \"/home/nathan/datasets/voyager_2020_data/single_coarse_guppi_59046_80036_DIAG_VOYAGER-1_0011.rawspec.0000.h5\""
   ]
  },
  {
   "cell_type": "code",
   "execution_count": 4,
   "metadata": {},
   "outputs": [],
   "source": [
    "noise_stats = {}"
   ]
  },
  {
   "cell_type": "code",
   "execution_count": 5,
   "metadata": {},
   "outputs": [
    {
     "name": "stdout",
     "output_type": "stream",
     "text": [
      "INFO: HDF5 looking for filter plugins in: \n",
      "\t'/usr/lib/x86_64-linux-gnu/hdf5/serial/plugin\u0000'\n"
     ]
    }
   ],
   "source": [
    "sc = blissdedrift.scan(filpath)\n",
    "cc = sc.read_coarse_channel(0)\n",
    "cpu_cc = np.from_dlpack(cc.data)\n",
    "\n",
    "\n",
    "noise_power_baseline = np.std(cpu_cc)\n",
    "noise_floor_baseline = np.mean(cpu_cc)\n",
    "\n",
    "noise_stats[\"baseline\"] = {\n",
    "    \"power\": noise_power_baseline,\n",
    "    \"floor\": noise_floor_baseline\n",
    "}\n"
   ]
  },
  {
   "cell_type": "code",
   "execution_count": 6,
   "metadata": {},
   "outputs": [],
   "source": [
    "\n",
    "noise_slice = cpu_cc[:,250000:500000]\n",
    "noise_power_slice = np.std(noise_slice)\n",
    "noise_floor_slice = np.mean(noise_slice)\n",
    "\n",
    "noise_stats[\"slice\"] = {\n",
    "    \"power\": noise_power_slice,\n",
    "    \"floor\": noise_floor_slice\n",
    "}\n"
   ]
  },
  {
   "cell_type": "code",
   "execution_count": 7,
   "metadata": {},
   "outputs": [],
   "source": [
    "vals, lower, upper = spstat.sigmaclip(cpu_cc)\n",
    "\n",
    "noise_power_vals = np.std(vals)\n",
    "noise_floor_vals = np.mean(vals)\n",
    "\n",
    "noise_stats[\"sigmaclip_baseline\"] = {\n",
    "    \"power\": noise_power_vals,\n",
    "    \"floor\": noise_floor_vals\n",
    "}\n",
    "\n"
   ]
  },
  {
   "cell_type": "code",
   "execution_count": 8,
   "metadata": {},
   "outputs": [
    {
     "name": "stdout",
     "output_type": "stream",
     "text": [
      "{'baseline': {'power': 3570070.5, 'floor': 5140684.0},\n",
      " 'slice': {'power': 564954.3, 'floor': 5504788.0},\n",
      " 'sigmaclip_baseline': {'power': 936291.56, 'floor': 5136734.0}}\n"
     ]
    }
   ],
   "source": [
    "pp(noise_stats)"
   ]
  },
  {
   "cell_type": "code",
   "execution_count": null,
   "metadata": {},
   "outputs": [],
   "source": []
  },
  {
   "cell_type": "code",
   "execution_count": 9,
   "metadata": {},
   "outputs": [
    {
     "name": "stdout",
     "output_type": "stream",
     "text": [
      "INFO: HDF5 looking for filter plugins in: \n",
      "\t'/usr/lib/x86_64-linux-gnu/hdf5/serial/plugin\u0000'\n"
     ]
    }
   ],
   "source": [
    "sc = blissdedrift.scan(filpath)\n",
    "cc = sc.read_coarse_channel(0)\n",
    "cc.set_device(\"cuda:0\")\n",
    "\n",
    "noise_est_options = blissdedrift.estimators.noise_power_estimate_options()\n",
    "noise_est_options.masked_estimate = True\n",
    "\n",
    "# cc.noise_estimate(cc, noise_est_options)\n",
    "cc_noise_est = blissdedrift.estimators.estimate_noise_power(cc, noise_est_options)\n",
    "\n",
    "noise_stats[\"bliss_baseline\"] = {\n",
    "    \"power\": cc_noise_est.noise_power,\n",
    "    \"floor\": cc_noise_est.noise_floor\n",
    "}\n"
   ]
  },
  {
   "cell_type": "code",
   "execution_count": 10,
   "metadata": {},
   "outputs": [
    {
     "name": "stdout",
     "output_type": "stream",
     "text": [
      "INFO: HDF5 looking for filter plugins in: \n",
      "\t'/usr/lib/x86_64-linux-gnu/hdf5/serial/plugin\u0000'\n",
      "INFO: spec kurtosis with M=16 and N=51\n"
     ]
    }
   ],
   "source": [
    "sc = blissdedrift.scan(filpath)\n",
    "cc = sc.read_coarse_channel(0)\n",
    "cc.set_device(\"cuda:0\")\n",
    "\n",
    "cc_standard_flag = blissdedrift.flaggers.flag_spectral_kurtosis(cc, .05, 25)\n",
    "\n",
    "noise_est_options = blissdedrift.estimators.noise_power_estimate_options()\n",
    "noise_est_options.masked_estimate = True\n",
    "\n",
    "cc_noise_est = blissdedrift.estimators.estimate_noise_power(cc_standard_flag, noise_est_options)\n",
    "\n",
    "noise_stats[\"bliss_sk\"] = {\n",
    "    \"power\": cc_noise_est.noise_power,\n",
    "    \"floor\": cc_noise_est.noise_floor\n",
    "}\n"
   ]
  },
  {
   "cell_type": "code",
   "execution_count": 11,
   "metadata": {},
   "outputs": [
    {
     "name": "stdout",
     "output_type": "stream",
     "text": [
      "INFO: HDF5 looking for filter plugins in: \n",
      "\t'/usr/lib/x86_64-linux-gnu/hdf5/serial/plugin\u0000'\n"
     ]
    }
   ],
   "source": [
    "sc = blissdedrift.scan(filpath)\n",
    "cc = sc.read_coarse_channel(0)\n",
    "cc.set_device(\"cuda:0\")\n",
    "\n",
    "cc_standard_flag = blissdedrift.flaggers.flag_filter_rolloff(cc, .25)\n",
    "\n",
    "noise_est_options = blissdedrift.estimators.noise_power_estimate_options()\n",
    "noise_est_options.masked_estimate = True\n",
    "\n",
    "cc_noise_est = blissdedrift.estimators.estimate_noise_power(cc_standard_flag, noise_est_options)\n",
    "\n",
    "noise_stats[\"bliss_rolloff\"] = {\n",
    "    \"power\": cc_noise_est.noise_power,\n",
    "    \"floor\": cc_noise_est.noise_floor\n",
    "}\n"
   ]
  },
  {
   "cell_type": "code",
   "execution_count": 12,
   "metadata": {},
   "outputs": [
    {
     "name": "stdout",
     "output_type": "stream",
     "text": [
      "INFO: HDF5 looking for filter plugins in: \n",
      "\t'/usr/lib/x86_64-linux-gnu/hdf5/serial/plugin\u0000'\n",
      "iter 0:  mean=5140680.5    std=3570070.2\n",
      "iter 1:  mean=5137039.5    std=937480.7\n",
      "iter 2:  mean=5136866.5    std=936565.9\n",
      "iter 3:  mean=5136866.5    std=936564.75\n"
     ]
    }
   ],
   "source": [
    "\n",
    "sc = blissdedrift.scan(filpath)\n",
    "cc = sc.read_coarse_channel(0)\n",
    "cc.set_device(\"cuda:0\")\n",
    "\n",
    "cc_sigmaclip = blissdedrift.flaggers.flag_sigmaclip(cc, 35, 5, 5)\n",
    "\n",
    "\n",
    "noise_est_options = blissdedrift.estimators.noise_power_estimate_options()\n",
    "noise_est_options.masked_estimate = True\n",
    "\n",
    "cc_noise_est = blissdedrift.estimators.estimate_noise_power(cc_sigmaclip, noise_est_options)\n",
    "\n",
    "noise_stats[\"bliss_sigmaclip\"] = {\n",
    "    \"power\": cc_noise_est.noise_power,\n",
    "    \"floor\": cc_noise_est.noise_floor\n",
    "}\n"
   ]
  },
  {
   "cell_type": "code",
   "execution_count": 13,
   "metadata": {},
   "outputs": [
    {
     "name": "stdout",
     "output_type": "stream",
     "text": [
      "INFO: HDF5 looking for filter plugins in: \n",
      "\t'/usr/lib/x86_64-linux-gnu/hdf5/serial/plugin\u0000'\n",
      "INFO: spec kurtosis with M=16 and N=51\n"
     ]
    }
   ],
   "source": [
    "sc = blissdedrift.scan(filpath)\n",
    "cc = sc.read_coarse_channel(0)\n",
    "cc.set_device(\"cuda:0\")\n",
    "\n",
    "cc_standard_flag = blissdedrift.flaggers.flag_filter_rolloff(cc, .2)\n",
    "cc_standard_flag = blissdedrift.flaggers.flag_spectral_kurtosis(cc_standard_flag, .05, 25)\n",
    "\n",
    "noise_est_options = blissdedrift.estimators.noise_power_estimate_options()\n",
    "noise_est_options.masked_estimate = True\n",
    "\n",
    "cc_noise_est = blissdedrift.estimators.estimate_noise_power(cc_standard_flag, noise_est_options)\n",
    "\n",
    "noise_stats[\"bliss_rolloff_sk\"] = {\n",
    "    \"power\": cc_noise_est.noise_power,\n",
    "    \"floor\": cc_noise_est.noise_floor\n",
    "}\n"
   ]
  },
  {
   "cell_type": "code",
   "execution_count": 14,
   "metadata": {},
   "outputs": [
    {
     "name": "stdout",
     "output_type": "stream",
     "text": [
      "INFO: HDF5 looking for filter plugins in: \n",
      "\t'/usr/lib/x86_64-linux-gnu/hdf5/serial/plugin\u0000'\n",
      "INFO: spec kurtosis with M=16 and N=51\n",
      "iter 0:  mean=5140680.5    std=3570070.2\n",
      "iter 1:  mean=5137039.5    std=937480.7\n",
      "iter 2:  mean=5136866.5    std=936565.9\n",
      "iter 3:  mean=5136866.5    std=936564.75\n"
     ]
    }
   ],
   "source": [
    "\n",
    "sc = blissdedrift.scan(filpath)\n",
    "cc = sc.read_coarse_channel(0)\n",
    "cc.set_device(\"cuda:0\")\n",
    "\n",
    "cc_sigmaclip = blissdedrift.flaggers.flag_filter_rolloff(cc, .2)\n",
    "cc_sigmaclip = blissdedrift.flaggers.flag_spectral_kurtosis(cc_sigmaclip, .05, 25)\n",
    "cc_sigmaclip = blissdedrift.flaggers.flag_sigmaclip(cc_sigmaclip, 35, 5, 5)\n",
    "\n",
    "\n",
    "noise_est_options = blissdedrift.estimators.noise_power_estimate_options()\n",
    "noise_est_options.masked_estimate = True\n",
    "\n",
    "cc_noise_est = blissdedrift.estimators.estimate_noise_power(cc_sigmaclip, noise_est_options)\n",
    "\n",
    "noise_stats[\"bliss_rolloff_sk_sigmaclip\"] = {\n",
    "    \"power\": cc_noise_est.noise_power,\n",
    "    \"floor\": cc_noise_est.noise_floor\n",
    "}\n"
   ]
  },
  {
   "cell_type": "code",
   "execution_count": 15,
   "metadata": {},
   "outputs": [
    {
     "name": "stdout",
     "output_type": "stream",
     "text": [
      "INFO: HDF5 looking for filter plugins in: \n",
      "\t'/usr/lib/x86_64-linux-gnu/hdf5/serial/plugin\u0000'\n",
      "INFO: spec kurtosis with M=16 and N=51\n",
      "iter 0:  mean=5140680.5    std=3570070.2\n",
      "iter 1:  mean=5137039.5    std=937480.7\n",
      "iter 2:  mean=5136866.5    std=936565.9\n",
      "iter 3:  mean=5136866.5    std=936564.75\n"
     ]
    }
   ],
   "source": [
    "\n",
    "sc = blissdedrift.scan(filpath)\n",
    "cc = sc.read_coarse_channel(0)\n",
    "cc.set_device(\"cuda:0\")\n",
    "\n",
    "cc_sigmaclip = blissdedrift.flaggers.flag_spectral_kurtosis(cc, .05, 25)\n",
    "cc_sigmaclip = blissdedrift.flaggers.flag_sigmaclip(cc_sigmaclip, 35, 5, 5)\n",
    "\n",
    "\n",
    "noise_est_options = blissdedrift.estimators.noise_power_estimate_options()\n",
    "noise_est_options.masked_estimate = True\n",
    "\n",
    "cc_noise_est = blissdedrift.estimators.estimate_noise_power(cc_sigmaclip, noise_est_options)\n",
    "\n",
    "noise_stats[\"bliss_sk_sigmaclip\"] = {\n",
    "    \"power\": cc_noise_est.noise_power,\n",
    "    \"floor\": cc_noise_est.noise_floor\n",
    "}\n"
   ]
  },
  {
   "cell_type": "code",
   "execution_count": 16,
   "metadata": {},
   "outputs": [
    {
     "name": "stdout",
     "output_type": "stream",
     "text": [
      "{'baseline': {'power': 3570070.5, 'floor': 5140684.0},\n",
      " 'slice': {'power': 564954.3, 'floor': 5504788.0},\n",
      " 'sigmaclip_baseline': {'power': 936291.56, 'floor': 5136734.0},\n",
      " 'bliss_baseline': {'power': 3570070.25, 'floor': 5140680.5},\n",
      " 'bliss_sk': {'power': 937606.875, 'floor': 5137023.0},\n",
      " 'bliss_rolloff': {'power': 4904291.0, 'floor': 5502934.5},\n",
      " 'bliss_sigmaclip': {'power': 936564.75, 'floor': 5136866.5},\n",
      " 'bliss_rolloff_sk': {'power': 569054.625, 'floor': 5497296.5},\n",
      " 'bliss_rolloff_sk_sigmaclip': {'power': 566329.375, 'floor': 5497009.5},\n",
      " 'bliss_sk_sigmaclip': {'power': 936558.6875, 'floor': 5136842.5}}\n"
     ]
    }
   ],
   "source": [
    "pp(noise_stats)"
   ]
  },
  {
   "cell_type": "code",
   "execution_count": null,
   "metadata": {},
   "outputs": [],
   "source": []
  },
  {
   "cell_type": "code",
   "execution_count": 17,
   "metadata": {},
   "outputs": [
    {
     "name": "stdout",
     "output_type": "stream",
     "text": [
      "INFO: HDF5 looking for filter plugins in: \n",
      "\t'/usr/lib/x86_64-linux-gnu/hdf5/serial/plugin\u0000'\n"
     ]
    }
   ],
   "source": [
    "sc = blissdedrift.scan(filpath)\n",
    "cc = sc.read_coarse_channel(0)\n",
    "cc = blissdedrift.preprocess.equalize_passband_filter(cc, \"../gbt_pfb_response.f32\")\n",
    "cpu_cc = np.from_dlpack(cc.data)\n",
    "\n",
    "\n",
    "noise_power_baseline = np.std(cpu_cc)\n",
    "noise_floor_baseline = np.mean(cpu_cc)\n",
    "\n",
    "noise_stats[\"corrected_baseline\"] = {\n",
    "    \"power\": noise_power_baseline,\n",
    "    \"floor\": noise_floor_baseline\n",
    "}\n",
    "\n",
    "\n",
    "noise_slice = cpu_cc[:,250000:500000]\n",
    "noise_power_slice = np.std(noise_slice)\n",
    "noise_floor_slice = np.mean(noise_slice)\n",
    "\n",
    "noise_stats[\"corrected_slice\"] = {\n",
    "    \"power\": noise_power_slice,\n",
    "    \"floor\": noise_floor_slice\n",
    "}\n"
   ]
  },
  {
   "cell_type": "code",
   "execution_count": 18,
   "metadata": {},
   "outputs": [
    {
     "name": "stdout",
     "output_type": "stream",
     "text": [
      "INFO: HDF5 looking for filter plugins in: \n",
      "\t'/usr/lib/x86_64-linux-gnu/hdf5/serial/plugin\u0000'\n"
     ]
    }
   ],
   "source": [
    "sc = blissdedrift.scan(filpath)\n",
    "cc = sc.read_coarse_channel(0)\n",
    "cc = blissdedrift.preprocess.equalize_passband_filter(cc, \"../gbt_pfb_response.f32\")\n",
    "cc.set_device(\"cuda:0\")\n",
    "\n",
    "noise_est_options = blissdedrift.estimators.noise_power_estimate_options()\n",
    "noise_est_options.masked_estimate = True\n",
    "\n",
    "# cc.noise_estimate(cc, noise_est_options)\n",
    "cc_noise_est = blissdedrift.estimators.estimate_noise_power(cc, noise_est_options)\n",
    "\n",
    "noise_stats[\"bliss_corrected_baseline\"] = {\n",
    "    \"power\": cc_noise_est.noise_power,\n",
    "    \"floor\": cc_noise_est.noise_floor\n",
    "}\n",
    "\n",
    "\n",
    "\n"
   ]
  },
  {
   "cell_type": "code",
   "execution_count": 19,
   "metadata": {},
   "outputs": [
    {
     "name": "stdout",
     "output_type": "stream",
     "text": [
      "INFO: HDF5 looking for filter plugins in: \n",
      "\t'/usr/lib/x86_64-linux-gnu/hdf5/serial/plugin\u0000'\n",
      "INFO: spec kurtosis with M=16 and N=51\n"
     ]
    }
   ],
   "source": [
    "sc = blissdedrift.scan(filpath)\n",
    "cc = sc.read_coarse_channel(0)\n",
    "cc = blissdedrift.preprocess.equalize_passband_filter(cc, \"../gbt_pfb_response.f32\")\n",
    "cc.set_device(\"cuda:0\")\n",
    "\n",
    "cc_standard_flag = blissdedrift.flaggers.flag_spectral_kurtosis(cc, .05, 25)\n",
    "\n",
    "noise_est_options = blissdedrift.estimators.noise_power_estimate_options()\n",
    "noise_est_options.masked_estimate = True\n",
    "\n",
    "cc_noise_est = blissdedrift.estimators.estimate_noise_power(cc_standard_flag, noise_est_options)\n",
    "\n",
    "noise_stats[\"bliss_corrected_sk\"] = {\n",
    "    \"power\": cc_noise_est.noise_power,\n",
    "    \"floor\": cc_noise_est.noise_floor\n",
    "}\n"
   ]
  },
  {
   "cell_type": "code",
   "execution_count": 20,
   "metadata": {},
   "outputs": [
    {
     "name": "stdout",
     "output_type": "stream",
     "text": [
      "INFO: HDF5 looking for filter plugins in: \n",
      "\t'/usr/lib/x86_64-linux-gnu/hdf5/serial/plugin\u0000'\n"
     ]
    }
   ],
   "source": [
    "sc = blissdedrift.scan(filpath)\n",
    "cc = sc.read_coarse_channel(0)\n",
    "cc = blissdedrift.preprocess.equalize_passband_filter(cc, \"../gbt_pfb_response.f32\")\n",
    "cc.set_device(\"cuda:0\")\n",
    "\n",
    "cc_standard_flag = blissdedrift.flaggers.flag_filter_rolloff(cc, .20)\n",
    "\n",
    "noise_est_options = blissdedrift.estimators.noise_power_estimate_options()\n",
    "noise_est_options.masked_estimate = True\n",
    "\n",
    "cc_noise_est = blissdedrift.estimators.estimate_noise_power(cc_standard_flag, noise_est_options)\n",
    "\n",
    "noise_stats[\"bliss_corrected_rolloff\"] = {\n",
    "    \"power\": cc_noise_est.noise_power,\n",
    "    \"floor\": cc_noise_est.noise_floor\n",
    "}\n"
   ]
  },
  {
   "cell_type": "code",
   "execution_count": 21,
   "metadata": {},
   "outputs": [
    {
     "name": "stdout",
     "output_type": "stream",
     "text": [
      "INFO: HDF5 looking for filter plugins in: \n",
      "\t'/usr/lib/x86_64-linux-gnu/hdf5/serial/plugin\u0000'\n",
      "iter 0:  mean=5521440    std=3521909.8\n",
      "iter 1:  mean=5517768.5    std=569019.6\n",
      "iter 2:  mean=5517341.5    std=566825.94\n",
      "iter 3:  mean=5517338    std=566811.9\n",
      "iter 4:  mean=5517337.5    std=566814.9\n"
     ]
    }
   ],
   "source": [
    "\n",
    "sc = blissdedrift.scan(filpath)\n",
    "cc = sc.read_coarse_channel(0)\n",
    "cc = blissdedrift.preprocess.equalize_passband_filter(cc, \"../gbt_pfb_response.f32\")\n",
    "cc.set_device(\"cuda:0\")\n",
    "\n",
    "cc_sigmaclip = blissdedrift.flaggers.flag_sigmaclip(cc, 35, 5, 5)\n",
    "\n",
    "\n",
    "noise_est_options = blissdedrift.estimators.noise_power_estimate_options()\n",
    "noise_est_options.masked_estimate = True\n",
    "\n",
    "cc_noise_est = blissdedrift.estimators.estimate_noise_power(cc_sigmaclip, noise_est_options)\n",
    "\n",
    "noise_stats[\"bliss_corrected_sigmaclip\"] = {\n",
    "    \"power\": cc_noise_est.noise_power,\n",
    "    \"floor\": cc_noise_est.noise_floor\n",
    "}\n"
   ]
  },
  {
   "cell_type": "code",
   "execution_count": 22,
   "metadata": {},
   "outputs": [
    {
     "name": "stdout",
     "output_type": "stream",
     "text": [
      "INFO: HDF5 looking for filter plugins in: \n",
      "\t'/usr/lib/x86_64-linux-gnu/hdf5/serial/plugin\u0000'\n",
      "INFO: spec kurtosis with M=16 and N=51\n",
      "iter 0:  mean=5521440    std=3521909.8\n",
      "iter 1:  mean=5517768.5    std=569019.6\n",
      "iter 2:  mean=5517341.5    std=566825.94\n",
      "iter 3:  mean=5517338    std=566811.9\n",
      "iter 4:  mean=5517337.5    std=566814.9\n"
     ]
    }
   ],
   "source": [
    "\n",
    "sc = blissdedrift.scan(filpath)\n",
    "cc = sc.read_coarse_channel(0)\n",
    "cc = blissdedrift.preprocess.equalize_passband_filter(cc, \"../gbt_pfb_response.f32\")\n",
    "cc.set_device(\"cuda:0\")\n",
    "\n",
    "cc_sigmaclip = blissdedrift.flaggers.flag_spectral_kurtosis(cc, .05, 25)\n",
    "cc_sigmaclip = blissdedrift.flaggers.flag_sigmaclip(cc_sigmaclip, 35, 5, 5)\n",
    "\n",
    "\n",
    "noise_est_options = blissdedrift.estimators.noise_power_estimate_options()\n",
    "noise_est_options.masked_estimate = True\n",
    "\n",
    "cc_noise_est = blissdedrift.estimators.estimate_noise_power(cc_sigmaclip, noise_est_options)\n",
    "\n",
    "noise_stats[\"bliss_corrected_sk_sigmaclip\"] = {\n",
    "    \"power\": cc_noise_est.noise_power,\n",
    "    \"floor\": cc_noise_est.noise_floor\n",
    "}\n"
   ]
  },
  {
   "cell_type": "code",
   "execution_count": 23,
   "metadata": {},
   "outputs": [
    {
     "name": "stdout",
     "output_type": "stream",
     "text": [
      "{'baseline': {'power': 3570070.5, 'floor': 5140684.0},\n",
      " 'slice': {'power': 564954.3, 'floor': 5504788.0},\n",
      " 'sigmaclip_baseline': {'power': 936291.56, 'floor': 5136734.0},\n",
      " 'bliss_baseline': {'power': 3570070.25, 'floor': 5140680.5},\n",
      " 'bliss_sk': {'power': 937606.875, 'floor': 5137023.0},\n",
      " 'bliss_rolloff': {'power': 4904291.0, 'floor': 5502934.5},\n",
      " 'bliss_sigmaclip': {'power': 936564.75, 'floor': 5136866.5},\n",
      " 'bliss_rolloff_sk': {'power': 569054.625, 'floor': 5497296.5},\n",
      " 'bliss_rolloff_sk_sigmaclip': {'power': 566329.375, 'floor': 5497009.5},\n",
      " 'bliss_sk_sigmaclip': {'power': 936558.6875, 'floor': 5136842.5},\n",
      " 'corrected_baseline': {'power': 3521909.5, 'floor': 5521433.0},\n",
      " 'corrected_slice': {'power': 567031.25, 'floor': 5527145.0},\n",
      " 'bliss_corrected_baseline': {'power': 3521909.75, 'floor': 5521440.0},\n",
      " 'bliss_corrected_sk': {'power': 569222.6875, 'floor': 5517762.0},\n",
      " 'bliss_corrected_rolloff': {'power': 4523199.5, 'floor': 5526402.5},\n",
      " 'bliss_corrected_sigmaclip': {'power': 566814.875, 'floor': 5517337.5},\n",
      " 'bliss_corrected_sk_sigmaclip': {'power': 566800.375, 'floor': 5517325.5}}\n"
     ]
    }
   ],
   "source": [
    "pp(noise_stats)"
   ]
  },
  {
   "cell_type": "code",
   "execution_count": 24,
   "metadata": {},
   "outputs": [],
   "source": [
    "from IPython.display import display, Math\n",
    "\n"
   ]
  },
  {
   "cell_type": "code",
   "execution_count": 25,
   "metadata": {},
   "outputs": [
    {
     "name": "stdout",
     "output_type": "stream",
     "text": [
      "\t\t\t\t|rolloff| SK\t|σ-clip\t|pfbcomp| power     | floor\t\n",
      "-----------------------------------------------------------\n",
      "full spectrum baseline \t\t| \t| \t| \t| \t| 3570070.5 | 5140684.0\n",
      "slice noise baseline \t\t| \t| \t| \t| \t|  564954.3 | 5504788.0\n",
      " \t\t\t\t| \t| \t| ✓\t| \t|  936291.6 | 5136734.0\n",
      "bliss baseline \t\t\t| \t| \t| \t| \t| 3570070.2 | 5140680.5\n",
      " \t\t\t\t| ✓\t| \t| \t| \t| 4904291.0 | 5502934.5\n",
      " \t\t\t\t| \t| ✓\t| \t| \t|  937606.9 | 5137023.0\n",
      " \t\t\t\t| \t| \t| ✓\t| \t|  936564.8 | 5136866.5\n",
      " \t\t\t\t| ✓\t| ✓\t| \t| \t|  569054.6 | 5497296.5\n",
      " \t\t\t\t| \t| ✓\t| ✓\t| \t|  936558.7 | 5136842.5\n",
      " \t\t\t\t| ✓\t| ✓\t| ✓\t| \t|  566329.4 | 5497009.5\n",
      "-----------------------------------------------------------\n",
      "corrected spectrum baseline \t| \t| \t| \t| ✓\t| 3521909.5 | 5521433.0\n",
      "corrected spectrum slice \t| \t| \t| \t| ✓\t|  567031.2 | 5527145.0\n",
      "corrected spectrum bliss \t| \t| \t| \t| ✓\t| 3521909.8 | 5521440.0\n",
      " \t\t\t\t| ✓\t| \t| \t| ✓\t| 4523199.5 | 5526402.5\n",
      " \t\t\t\t| \t| ✓\t| \t| ✓\t|  569222.7 | 5517762.0\n",
      " \t\t\t\t| \t| \t| ✓\t| ✓\t|  566814.9 | 5517337.5\n",
      " \t\t\t\t| \t| ✓\t| ✓\t| ✓\t|  566800.4 | 5517325.5\n"
     ]
    }
   ],
   "source": [
    "\n",
    "print(\"\\t\\t\\t\\t|rolloff| SK\\t|σ-clip\\t|pfbcomp| power     | floor\\t\")\n",
    "print(\"-----------------------------------------------------------\")\n",
    "print(f\"full spectrum baseline \\t\\t| \\t| \\t| \\t| \\t| {noise_stats[\"baseline\"][\"power\"]:9.1f} | {noise_stats[\"baseline\"][\"floor\"]:9.1f}\")\n",
    "print(f\"slice noise baseline \\t\\t| \\t| \\t| \\t| \\t| {noise_stats[\"slice\"][\"power\"]:9.1f} | {noise_stats[\"slice\"][\"floor\"]:8.1f}\")\n",
    "print(f\" \\t\\t\\t\\t| \\t| \\t| ✓\\t| \\t| {noise_stats[\"sigmaclip_baseline\"][\"power\"]:9.1f} | {noise_stats[\"sigmaclip_baseline\"][\"floor\"]:8.1f}\")\n",
    "\n",
    "print(f\"bliss baseline \\t\\t\\t| \\t| \\t| \\t| \\t| {noise_stats[\"bliss_baseline\"][\"power\"]:9.1f} | {noise_stats[\"bliss_baseline\"][\"floor\"]:8.1f}\")\n",
    "print(f\" \\t\\t\\t\\t| ✓\\t| \\t| \\t| \\t| {noise_stats[\"bliss_rolloff\"][\"power\"]:9.1f} | {noise_stats[\"bliss_rolloff\"][\"floor\"]:8.1f}\")\n",
    "print(f\" \\t\\t\\t\\t| \\t| ✓\\t| \\t| \\t| {noise_stats[\"bliss_sk\"][\"power\"]:9.1f} | {noise_stats[\"bliss_sk\"][\"floor\"]:8.1f}\")\n",
    "print(f\" \\t\\t\\t\\t| \\t| \\t| ✓\\t| \\t| {noise_stats[\"bliss_sigmaclip\"][\"power\"]:9.1f} | {noise_stats[\"bliss_sigmaclip\"][\"floor\"]:8.1f}\")\n",
    "print(f\" \\t\\t\\t\\t| ✓\\t| ✓\\t| \\t| \\t| {noise_stats[\"bliss_rolloff_sk\"][\"power\"]:9.1f} | {noise_stats[\"bliss_rolloff_sk\"][\"floor\"]:8.1f}\")\n",
    "print(f\" \\t\\t\\t\\t| \\t| ✓\\t| ✓\\t| \\t| {noise_stats[\"bliss_sk_sigmaclip\"][\"power\"]:9.1f} | {noise_stats[\"bliss_sk_sigmaclip\"][\"floor\"]:8.1f}\")\n",
    "print(f\" \\t\\t\\t\\t| ✓\\t| ✓\\t| ✓\\t| \\t| {noise_stats[\"bliss_rolloff_sk_sigmaclip\"][\"power\"]:9.1f} | {noise_stats[\"bliss_rolloff_sk_sigmaclip\"][\"floor\"]:8.1f}\")\n",
    "\n",
    "print(\"-----------------------------------------------------------\")\n",
    "\n",
    "print(f\"corrected spectrum baseline \\t| \\t| \\t| \\t| ✓\\t| {noise_stats[\"corrected_baseline\"][\"power\"]:9.1f} | {noise_stats[\"corrected_baseline\"][\"floor\"]:8.1f}\")\n",
    "print(f\"corrected spectrum slice \\t| \\t| \\t| \\t| ✓\\t| {noise_stats[\"corrected_slice\"][\"power\"]:9.1f} | {noise_stats[\"corrected_slice\"][\"floor\"]:8.1f}\")\n",
    "print(f\"corrected spectrum bliss \\t| \\t| \\t| \\t| ✓\\t| {noise_stats[\"bliss_corrected_baseline\"][\"power\"]:9.1f} | {noise_stats[\"bliss_corrected_baseline\"][\"floor\"]:8.1f}\")\n",
    "print(f\" \\t\\t\\t\\t| ✓\\t| \\t| \\t| ✓\\t| {noise_stats[\"bliss_corrected_rolloff\"][\"power\"]:9.1f} | {noise_stats[\"bliss_corrected_rolloff\"][\"floor\"]:8.1f}\")\n",
    "print(f\" \\t\\t\\t\\t| \\t| ✓\\t| \\t| ✓\\t| {noise_stats[\"bliss_corrected_sk\"][\"power\"]:9.1f} | {noise_stats[\"bliss_corrected_sk\"][\"floor\"]:8.1f}\")\n",
    "print(f\" \\t\\t\\t\\t| \\t| \\t| ✓\\t| ✓\\t| {noise_stats[\"bliss_corrected_sigmaclip\"][\"power\"]:9.1f} | {noise_stats[\"bliss_corrected_sigmaclip\"][\"floor\"]:8.1f}\")\n",
    "print(f\" \\t\\t\\t\\t| \\t| ✓\\t| ✓\\t| ✓\\t| {noise_stats[\"bliss_corrected_sk_sigmaclip\"][\"power\"]:9.1f} | {noise_stats[\"bliss_corrected_sk_sigmaclip\"][\"floor\"]:8.1f}\")\n",
    "\n",
    "\n",
    "\n"
   ]
  },
  {
   "cell_type": "code",
   "execution_count": 26,
   "metadata": {},
   "outputs": [
    {
     "data": {
      "text/latex": [
       "$\\displaystyle \\checkmark$"
      ],
      "text/plain": [
       "<IPython.core.display.Math object>"
      ]
     },
     "metadata": {},
     "output_type": "display_data"
    }
   ],
   "source": [
    "display(Math(r\"\\checkmark\"))"
   ]
  },
  {
   "cell_type": "code",
   "execution_count": 27,
   "metadata": {},
   "outputs": [
    {
     "data": {
      "text/plain": [
       "1.013674684145064"
      ]
     },
     "execution_count": 27,
     "metadata": {},
     "output_type": "execute_result"
    }
   ],
   "source": [
    "3570070.5/3521909.5"
   ]
  },
  {
   "cell_type": "code",
   "execution_count": 28,
   "metadata": {},
   "outputs": [
    {
     "ename": "SyntaxError",
     "evalue": "invalid syntax (1676554632.py, line 1)",
     "output_type": "error",
     "traceback": [
      "\u001b[0;36m  Cell \u001b[0;32mIn[28], line 1\u001b[0;36m\u001b[0m\n\u001b[0;31m    p = 1/16 777 216\u001b[0m\n\u001b[0m             ^\u001b[0m\n\u001b[0;31mSyntaxError\u001b[0m\u001b[0;31m:\u001b[0m invalid syntax\n"
     ]
    }
   ],
   "source": [
    "p = 1/16 777 216\n",
    "p\n"
   ]
  },
  {
   "cell_type": "code",
   "execution_count": null,
   "metadata": {},
   "outputs": [],
   "source": [
    "from scipy.special import erfc\n",
    "\n",
    "def qfunc(x):\n",
    "    return 0.5 * erfc(x / np.sqrt(2))\n",
    "\n",
    "x = 6\n",
    "result = qfunc(x)\n",
    "print(result)"
   ]
  },
  {
   "cell_type": "code",
   "execution_count": null,
   "metadata": {},
   "outputs": [],
   "source": []
  }
 ],
 "metadata": {
  "kernelspec": {
   "display_name": ".devenv",
   "language": "python",
   "name": "python3"
  },
  "language_info": {
   "codemirror_mode": {
    "name": "ipython",
    "version": 3
   },
   "file_extension": ".py",
   "mimetype": "text/x-python",
   "name": "python",
   "nbconvert_exporter": "python",
   "pygments_lexer": "ipython3",
   "version": "3.12.3"
  }
 },
 "nbformat": 4,
 "nbformat_minor": 2
}
